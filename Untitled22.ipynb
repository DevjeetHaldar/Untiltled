{
  "nbformat": 4,
  "nbformat_minor": 0,
  "metadata": {
    "colab": {
      "provenance": []
    },
    "kernelspec": {
      "name": "python3",
      "display_name": "Python 3"
    },
    "language_info": {
      "name": "python"
    }
  },
  "cells": [
    {
      "cell_type": "code",
      "execution_count": 11,
      "metadata": {
        "id": "VPAapZ5DVI7H"
      },
      "outputs": [],
      "source": [
        "import requests\n",
        "from bs4 import BeautifulSoup\n",
        "import pandas as pd"
      ]
    },
    {
      "cell_type": "code",
      "source": [
        "# Send request to website\n",
        "url = 'https://www.hdfcbank.com/personal/pay/cards/credit-cards'\n",
        "req = requests.get(url)"
      ],
      "metadata": {
        "id": "VrW92HTmVqRD"
      },
      "execution_count": 3,
      "outputs": []
    },
    {
      "cell_type": "code",
      "source": [
        "req.content"
      ],
      "metadata": {
        "id": "VN7ELHBQxadZ"
      },
      "execution_count": null,
      "outputs": []
    },
    {
      "cell_type": "code",
      "source": [
        "# Parse the HTML content using BeautifulSoup\n",
        "soup = BeautifulSoup(req.content, 'html.parser')"
      ],
      "metadata": {
        "id": "P0Cn73_AWaqI"
      },
      "execution_count": 4,
      "outputs": []
    },
    {
      "cell_type": "code",
      "source": [
        "soup.prettify"
      ],
      "metadata": {
        "colab": {
          "base_uri": "https://localhost:8080/"
        },
        "id": "RVA0S5yA-csu",
        "outputId": "2f724c85-a1da-47e9-d1e1-4c25f41e113e"
      },
      "execution_count": 5,
      "outputs": [
        {
          "output_type": "execute_result",
          "data": {
            "text/plain": [
              "<bound method Tag.prettify of \n",
              "<!DOCTYPE html PUBLIC \"-//W3C//DTD HTML 4.01 Transitional//EN\" \"http://www.w3.org/TR/html4/loose.dtd\">\n",
              "\n",
              "<html><head><meta content=\"text/html; charset=utf-8\" http-equiv=\"Content-Type\"/><title>Page loading</title><style type=\"text/css\">body{margin:0}.centerComponents{margin:auto;text-align:left}#element1{width:580px}#c1363845813516{width:570px;min-height:200px;height:auto!important;height:200px;margin:10px 0 0 10px;display:inline;float:left}.loader{border-radius:50%;border:16px solid #f3f3f3;border-top-color:#3498db;width:120px;height:120px;margin:100px 0;-webkit-animation:spin 2s linear infinite;animation:spin 2s linear infinite}@-webkit-keyframes spin{0%{-webkit-transform:rotate(0deg)}to{-webkit-transform:rotate(1turn)}}@keyframes spin{0%{transform:rotate(0deg)}to{transform:rotate(1turn)}}.contain{background-color:#e1e1e1}</style>\n",
              "<meta content=\"\" name=\"keywords\"/><meta content=\"\" name=\"description\"/><meta content=\"\" name=\"vpath\"/><meta content=\"\" name=\"page-locale-name\"/><link href=\"/favicon.ico\" rel=\"shortcut icon\" type=\"image/x-icon\"/><style>a,a img{border:none;outline:0}body{margin:0;padding:0;font-family:Arial,Helvetica,sans-serif;font-size:12px;color:#000;background:url(data:image/jpeg;base64,/9j/4AAQSkZJRgABAQAAAQABAAD/2wCEAAIBAQIBAQICAgICAgICAwUDAwMDAwYEBAMFBwYHBwcGBwcICQsJCAgKCAcHCg0KCgsMDAwMBwkODw0MDgsMDAwBAgICAwMDBgMDBgwIBwgMDAwMDAwMDAwMDAwMDAwMDAwMDAwMDAwMDAwMDAwMDAwMDAwMDAwMDAwMDAwMDAwMDP/CABEIAHYABAMBEQACEQEDEQH/xAAuAAEBAQEAAAAAAAAAAAAAAAAACQEHAQEAAgMAAAAAAAAAAAAAAAAAAgUGCAn/2gAMAwEAAhADEAAAAL+AAAAAAyLnNrjUa9xua3//xAAhEAAAAgsBAAAAAAAAAAAAAAAAEQEDBgcYMFFXYZWh0v/aAAgBAQABPwCYSaiLt11w2N2yj0Dx0f/EABoRAAEFAQAAAAAAAAAAAAAAAAABBBIVMFP/2gAIAQIBAT8A1p3vJSB//8QAHREAAQIHAAAAAAAAAAAAAAAAAAECBRIWMFOR0f/aAAgBAwEBPwC7WUFzpp3CY//Z) 0 0 repeat-x}.wrapp{width:934px;margin:auto}.header{width:100%;height:35px;float:left}.header img{margin-top:48px}.wrapp h1{background:url(data:image/jpeg;base64,/9j/4AAQSkZJRgABAQAAAQABAAD/2wCEAAMCAgMCAgMDAwMEAwMEBQgFBQQEBQoHBwYIDAoMDAsKCwsNDhIQDQ4RDgsLEBYQERMUFRUVDA8XGBYUGBIUFRQBAwQEBQQFCQUFCRQNCw0UFBQUFBQUFBQUFBQUFBQUFBQUFBQUFBQUFBQUFBQUFBQUFBQUFBQUFBQUFBQUFBQUFP/CABEIAC8ALAMBEQACEQEDEQH/xAAvAAEAAgMBAQAAAAAAAAAAAAAHBQgDBgkCBAEBAQEAAAAAAAAAAAAAAAAAAAIB/9oADAMBAAIQAxAAAADqmBG4a7Myqws7sYLsKafFOoQYouounzBhN+1hYDzHQSrGQ3ZI5qPoChea3grbA9xI0seb3TERRFmcliQP/8QAMRAAAQMDAwEGBAYDAAAAAAAAAQIDBAUGEQAHIRIIEzFBUYEjMkJSEBQiQ2FxFURy/9oACAEBAAE/ANbldp2LQK1ItuzaSbtuNg9EgodDUOGfRx3zUPtGnr/3pqrvfqvSiUT0iwaWl5H9EuAnVE393Hsvm56ZT7xpSB8WVR/gS0eqi2QEr/oAasW/aJuLQW6vQpomQ1kpPBC21+aVpPKVD0P4dp/cmXY1ksUykSDGrledMSO95sNjl50fyEkAfyvXZ521t66WKlTXqguMmGj9MFhwofeUscyVK+oBWQBzz82r6o1V20rBp9XOWV5VFngYbkoHBOB4LGRlPuONWTs4/WLak1m5pr9DStkuRGwsIVHAGe+ezwTgfKeAnOeTxt/eg25v9itRX0f4ie8IlVSzlDLzZXhMpKTyCOD69OkEEZGu2nLlM37bXQfgs09a0emVOKCvchKdUK8Khb1Ti1SBIcgVCKoLafb5IPGUkfUk+BSeDq0XXr7syiz7ooLcKoKDcowpKQvuXQcpWkHJSfMA8jODrtUXpcLNbYt16K7Ctp1sOodScpqCx8yVEcAIP0Hx+Y6kT35jS2gMJV4k+J5zqz3npFpUV15WXlwWFLJ81FAJ12tLCduG24FejNlx2lqUh5IH7S/q9lAexOuzFbdovXFNqNflNCrU9P5iFElYSwGwOXwTwpSfboHONbo7/wBZuWuMt2lPepdIguhxqUgYVNWDwpQP7XokjnxOqZf9p707dVGFdqGKa/DZD01pxeO5IHD7KjzjJ48wf0nVk2Sq7brh0qIXH2XnyO/cb6F9wlR+IpIyEnp5x68ajMIjMIabSEttpCUpHkAMDUmM1LYcYfbQ8y4koW2sApUD4gjzzrcbs2Pw5Ts23WBUIBUVmCsjvGT6J+4Y4+7HGnIhojhj1ClPR3k8FDzZSrPvqlbYVu9X2vyFEWhkHiVJHQ2jkHOSP6PAOtsdroO3cBfSsTKm+B38voxkfakeSdJ09HQ+MLHGpVpQJmesO+zhGnNs6W7/ALE5P/MgjTG3lKjkEKlLPqt8nUWhRImO7C/46lk6SnoGBr//xAAaEQACAwEBAAAAAAAAAAAAAAAAEQEgMAIS/9oACAECAQE/ABbujrJAjmPOH//EABoRAAICAwAAAAAAAAAAAAAAAAABECARIUD/2gAIAQMBAT8AMmxSxKruuH//2Q==) 5px 5px no-repeat;color:#00558c;float:left;width:95%;font-size:1.9em;line-height:55px;margin:100px 0 0;padding:0 0 20px 60px;font-weight:400}.contain{width:934px;float:left;padding:15px 30px;margin:0;background:#e1e1e1}.contain p{font-weight:700;color:#575757}.contain ul li{background:url(data:image/jpeg;base64,/9j/4AAQSkZJRgABAQAAAQABAAD/2wCEAAIBAQEBAQIBAQECAgICAgQDAgICAgUEBAMEBgUGBgYFBgYGBwkIBgcJBwYGCAsICQoKCgoKBggLDAsKDAkKCgoBAgICAgICBQMDBQoHBgcKCgoKCgoKCgoKCgoKCgoKCgoKCgoKCgoKCgoKCgoKCgoKCgoKCgoKCgoKCgoKCgoKCv/CABEIAAYABwMBEQACEQEDEQH/xAAmAAEAAAAAAAAAAAAAAAAAAAAIAQEAAAAAAAAAAAAAAAAAAAAA/9oADAMBAAIQAxAAAABjn//EACUQAAAFAQcFAAAAAAAAAAAAAAECAwQHCAAFBhITFCQJFRYjM//aAAgBAQABPwCgKlyuSNup5L8jzPVL5JhDl5rk709X3O7cAsx4ypARb6KJRD1mHT+RMxDW/8QAFBEBAAAAAAAAAAAAAAAAAAAAAP/aAAgBAgEBPwB//8QAFBEBAAAAAAAAAAAAAAAAAAAAAP/aAAgBAwEBPwB//9k=) left 3px no-repeat;padding:0 0 5px 20px;list-style:none;color:#575757}.contain ul{margin:0;width:580px;border-bottom:1px solid #000;padding:0 0 15px}.last_tab,.last_tab ul{width:100%;float:left}.contain ul.list li{color:#03669d;font-weight:700;background:0 0;padding-left:0}.contain ul.list li a{color:#03669d}.contain ul.list{border:0}.last_tab ul{margin:0;border:none}.last_tab ul li{float:left;margin:0 50px 0 0;width:168px;padding:0;height:48px;font-size:1.7em;list-style:none;background:0 0}.last_tab ul li a,.last_tab ul li a:hover{background:url(data:image/jpeg;base64,/9j/4QAC/9sAhAAHBQUGBQQHBgUGCAcHCAoRCwoJCQoVDxAMERgVGhkYFRgXGx4nIRsdJR0XGCIuIiUoKSssKxogLzMvKjInKisqAQcICAoJChQLCxQqHBgcKioqKioqKioqKioqKioqKioqKioqKioqKioqKioqKioqKioqKioqKioqKioqKioqKir/wgARCAAhAHQDASIAAhEBAxEB/8QAMQABAAMBAQEAAAAAAAAAAAAAAAMEBQYHAQEBAAMBAQAAAAAAAAAAAAAAAAIDBQQG/9oADAMBAAIQAxAAAACnh3Mr3PibKssrsqwsqwsqwsqwsqw9QYrC2+Sx9vnu3jmQpwmQiZCJkImQiZCPRmkzNL1fPMLcAAAAAfQ6MQs//8QALRAAAAQCCgEEAgMAAAAAAAAAAAECAwQTBQYSFFNUYZKT0REhMWSyNHEHMKH/2gAIAQEAAT8ArjGOUhW6klRqifNuKcbRMIlWEpUZERefYvBCwxgM8SehYYwGeJPQsMYDPEnoWGMBniT0LDGAzxJ6FhjAZ4k9CwxgM8SehYYwGeJPQsMYDPEnoWGMBniT0LDGAzxJ6FhjAZ4k9CwxgM8SehUqstJwtAmw1EKNtt4yQlXrYLwXoXn2LQVpd8VvpcvmvfcxO1E7UTtRO1E7UTtRO1E7UTtRO1E7UTtRO1FTFW6GdP5B/VIrc7ZrpTJfOe+5icJwnCcJwnCcJwnCcJwnCcKiKt0E8fyVfVIr3RcfCV5padCvETsU44g7B+FJUozIyF3isu9sMXeKy72wxd4rLvbDF3isu9sMXeKy72wxd4rLvbDF3isu9sMXeKy72wxd4rLvbDF3isu9sMXeKy72wxd4rLvbDF3isu7sMfxzVqlXKsKdVCrbJyIUpBOF4MyspLz/AIYpj8pP6/tL3IQX4iP0P//EABwRAAIDAQADAAAAAAAAAAAAAAABAgMSETAxUf/aAAgBAgEBPwClpVxS+GkaRpGkaRpF9UHbJ8RXNuC4aZpmmaZpmmW2w2+vwP2f/8QAHBEAAwEBAQADAAAAAAAAAAAAAAESAwIRMDFR/9oACAEDAQE/ANV09Om/0lkslkslksw10WaXppyl2/SUSiUSiUSjLPuF4vgX0f/Z) 0 0 no-repeat}.last_tab ul li a{text-align:center;line-height:47px;display:block;color:#fff;text-decoration:none}.footer{width:100%;float:left;margin:75px 0 10px;font-size:.9em;color:#1470a3}#c1363845813516,#element1{width:auto!important}#c1363845813516{min-height:0!important;height:auto!important;margin:0!important;float:none!important}</style>\n",
              "<meta content=\"35\" http-equiv=\"refresh\"/>\n",
              "</head><body>\n",
              "<div style=\"display: none;\"><div class=\"cf-browser-verification cf-im-under-attack\">\n",
              "<noscript>\n",
              "<h1 style=\"color:#bd2426;\">Please turn JavaScript on and reload the page.</h1>\n",
              "</noscript>\n",
              "<div id=\"cf-content\">\n",
              "<div id=\"cf-bubbles\">\n",
              "<div class=\"bubbles\"></div>\n",
              "<div class=\"bubbles\"></div>\n",
              "<div class=\"bubbles\"></div>\n",
              "</div>\n",
              "<h1>Checking your browser before accessing www.hdfcbank.com.</h1>\n",
              "<div class=\"cookie-warning\" id=\"no-cookie-warning\" style=\"display:none\">\n",
              "<p style=\"color:#bd2426;\">Please enable Cookies and reload the page</p>\n",
              "</div>\n",
              "<p>This process is automatic. Your browser will redirect to your requested content shortly.</p>\n",
              "<p id=\"cf-spinner-allow-5-secs\">Please allow up to 5 seconds...</p>\n",
              "<p id=\"cf-spinner-redirecting\" style=\"display:none\">Redirecting...</p>\n",
              "</div>\n",
              "<form action=\"/personal/pay/cards/credit-cards?__cf_chl_f_tk=_uAnuc9mqNfbgN9z155AI3mzFAHc66Q.khASMqi0DQ8-1684044649-0-gaNycGzNCaU\" class=\"challenge-form\" enctype=\"application/x-www-form-urlencoded\" id=\"challenge-form\" method=\"POST\">\n",
              "<input name=\"md\" type=\"hidden\" value=\"gLcOFnavS09lf682JyCsfrJawDQ80NMLI7YUelVVYI4-1684044649-0-AexC99Nqs2Ix-UmXmfltCZyQ5zPSfH-TSYk4oWIMhumLXoT_HAJzPPaP28pLXK4RydeNhZDD8ju8zDid99UlmxGjdEiGeK6cxXT3i1ND-aXji48LzoWOn36r5aGYcCwi5hBfh83uDrE9g34QEBgEDc1Fo6ixwh87qwpRuHaILVkMi4ODsq9FcagvMt3N1lfV5jhfeawuGHummKm4clHZDrcQ9i6Gg0a0dudsGK7YRvN9M57wp1DVdbN9JzPofnUpe7yOi7okVhyjhOv2EkeRfopwkmuXxREee3NxkSVLJibUEob5m9hJf-E9rTnu3Gc6ixEDDLgJDNRo9OfhkIjuo3RVyuPt95bJD5VMO4Sx69LPJoxTpKa_ozHeblN2wYXgPay1cTu5ZFX9KcCrlDCbRYL_NqKn6cDZe-Aj16opqA2_z2QJE1F_ilmaGgnJCN-FKoUNdqOYX3e_OVZRlam4-O1QKsPOkib3Dp0yxtqCFVd3RhAiFvQJRBcI0igGnVV97cvU0z2xsJ4jchgWmJzjXJs8lF3LBHY7eEjnqijVY3rnuN1RUO0RTPCBgkSlEwW6mHoLSWQde8N9mWYNo1USvGyFSazl6452EY5ug6JwQWBdeI-oqm-IVr_aC-d7dk9miOn270RAsu24BvAObeDJ4Ujx0YsTFjzw5iQRH6DJsGxZyZHDGTLZZQGSFa5hExFLaQtvEuXr9A8JBO7NcaidFhZ9-lUlps_Ome0wr5Rm3kJQ8yLPyKlWQ5bPpbRl3RmoRt0d4T8pBhuXAaWxjq6VjjjWCwIPvtL9-tD-HQ-QLRcuVKds_F2o-YIz97fdW3nGQyWQ0lN25gBP3-ctYWs4R_uwSai0pvxCu3qTb3jfJzK2vHlltTVf2KkNmaj1G7FaDyMV_RZBfLNM77FvIPt5QLbHxhlCNmfFwLJlVdtnaQBsSsruFHTiGDeJQlJqIjIEu4CsEzCkRJA-xygoLFIQ2glkmUb4wpzFhymLeQlcT7jTgoea-W6OUFkRcYS0FOmOGLyc9EzUv7XLVbn1Rfvpt6yq3ZeHqzSkk3M_PA6_5USb7oYO7x25iuAtjVMl9GFlukH2mNgvn_tAf5aXRujMpfs5Nq42MxogUQRsDseKS2iLBTsIA4nO_JyiVZYMFKZLIpbK6f9JIXUc_Pk4MT1j7hLRILnpTyRLQDqSwXziCa2QRNnIlgmcsspjUxUYc1wiJasr1Hbk4LICL_XDXn4gYsdRvWdP5EV6g3UzT6aSGNktSJzE2RsSUeCIsVbCj7tO2Lqg66gjhwm1uCpRBNvUMjozs7zXIgU6DnxhXaYnVuqO98PbLYAQnWYuQJzNf6WEP65HGJwQLxOUyBPILBxrIYPzP3FcO11UfLBp76do6MXKRAWExjcm-kBpRsTwEdfF2ZRgItxYRX-TKKu7qfV5NsCNBGofdd4SdbtM4kELcmVKx62e9nmlzWcs0H9AoWzErFtF9-YfUdGTiDNsLGUdDGLvdrJqS_ekSM6lpl3ClG_Hm3ic1JRcW17Xn6Zkzbh5_6rsUxTIVp7H4rPDNM1dg9AQIQ-55yrqHDNV1OUWT1JukJcht8xdiPpfXBVzR-enaqhTC_t_qs3lZYsow6RzKJ8KiNqTTt0pbXNlyblEzgG4eAXfpxQ72gvkVYM7tTmlmcVznx-qUXJl3RNa0cz4hjhpAovw9DeBqWkZYk7szQhUylJFk6X3sfQN-z1IPuTBBgG_oD_bj2JHK6cvtCBOhbvFKPK49YXUdbzKh7bxwrqRr_OpScf-_PvfWIpzSe7qUK3c-FWkbM7ZGSjejjf3HqBh4qMEFi0duGakOyCCQOuQlxFNpXZ1dprBvBTA8IDVXDVB3rySYDPMCYBJboCKqd4rqTuA5lhoeZJuAgXkge2MSoCSp-O9AmcbmJzv4jK5T_z-v2UVEoq5cttTdOlqTplkhTSyE4k8W5Ahw4oJW_qxZVs04P6KrSKFs1OiXEXXaFBAyuayZF_WR6j-KtkJtAG1eVNWPIKbzu_p9SMoxdhzZnKY4jW2ZFvBJrkiG9bIytY5ATUrdFQolwHaoLan360wNA_hugXcov0-xJQXa4nrIqDQfxeXKeBdCyAszooYlhaj3-m4RFlyohX_AUetGmSyZRqItdPvU25wZ2_TAUZkknnVY_jMhj1QoS8Vv3wiZmY9ppqLal3OPGFTfRy75f6K-4T6gkobWj3I0wsNvUcstJbOf_9JPEhNgc8mGSaZOXBv96Ra7FFI34qS05HFw4bPtoDhVO4Y1DBC1Bnp_2Ks4H1kf33kZuO_lPhmyw3NwJHl6baGIbGzvJ5iHP8osMLEatLPrlBsoTMkub5jGbrOwd4bbLN6SA31uz_01WbzKSrhgJEPpf3S7eUdGStLsyzewzTzWk1UMlcHPALuR0Hw\"/>\n",
              "</form>\n",
              "<div id=\"trk_jschal_js\" style=\"display:none;background-image:url('/cdn-cgi/images/trace/jsch/nojs/transparent.gif?ray=7c70faf24c79e1a9')\"></div>\n",
              "<script>\n",
              "    (function(){\n",
              "        window._cf_chl_opt={\n",
              "            cvId: '2',\n",
              "            cZone: 'www.hdfcbank.com',\n",
              "            cType: 'non-interactive',\n",
              "            cNounce: '9464',\n",
              "            cRay: '7c70faf24c79e1a9',\n",
              "            cHash: '5ee38da4f7da516',\n",
              "            cUPMDTk: \"\\/personal\\/pay\\/cards\\/credit-cards?__cf_chl_tk=_uAnuc9mqNfbgN9z155AI3mzFAHc66Q.khASMqi0DQ8-1684044649-0-gaNycGzNCaU\",\n",
              "            cFPWv: 'g',\n",
              "            cTTimeMs: '1000',\n",
              "            cMTimeMs: '60000',\n",
              "            cTplV: 1,\n",
              "            cTplB: 'cf',\n",
              "            cK: \"\",\n",
              "            cRq: {\n",
              "                ru: 'aHR0cHM6Ly93d3cuaGRmY2JhbmsuY29tL3BlcnNvbmFsL3BheS9jYXJkcy9jcmVkaXQtY2FyZHM=',\n",
              "                ra: 'cHl0aG9uLXJlcXVlc3RzLzIuMjcuMQ==',\n",
              "                rm: 'R0VU',\n",
              "                d: 'Uw4tGHtOBgap7ceZ2F+0einSWyvQr2H2PM3i8k+Lo7E+o0SbZ6Q1orfs11m/q+RT8RqHS30zrx4Sq8g6Mb8emvncsDQi8KYiW+6XBcKHtiKEuhin1MdUKTOFmXb06/z1lT8mTaGR8Q01tczWnEi462y+frGnaUMkyBWfDhs0WOqCn9ZVQx7wShgkJQUEWW5yazBqsqT41Sm82QnCz/SjU/0xsGuFZEbuRjFOa3j09cwAs+rAJH1Lo47oP+pCxru6lKjSGKU8dzyL+0mNrw1AS0WAomZQN3/8TMYYQ+GiE/9HdGHDqqRJLYVNFBd8Jci1xMCQaEY32LrLmcN/tFhOYBMWzlU7H50Gu1AAUhH91DanwC2j3LUR5hXRaiYLz/D2AiuLNLBbFlsknwrVAVlsTuKiVzP16Pj410r28QJOD54g0ot7v9PZut+Y3IRtTf30a7FuN01S/3ULsrIo9UhHF/8XvljUaLsasesDlFggEtDxDUXiI1zKCvyWOwDNRXExfGn6ZSIvV0i/1CURtKyJYAIq4JLWC3Oi4X6C+NprHrYXKq3fXFv3VRT7z+592U6g',\n",
              "                t: 'MTY4NDA0NDY0OS4zMjUwMDA=',\n",
              "                m: 'jpg1bFwgrMvcCjhLK6uRIJrc8pI1oZmhVxITIyp9VgE=',\n",
              "                i1: 'GaOY2kKIqOhG6ydrq1p+DQ==',\n",
              "                i2: 'w13HDV51zfVCsa4uI8NCFA==',\n",
              "                zh: 'A6Ts6x4z+1rW6p6KTSOg96biwVYe74MCYww5YcWIPHU=',\n",
              "                uh: 'JNy/u1JaDY8l68+s834y37Qd6UIzTJLBzCkJPX4t/ps=',\n",
              "                hh: 'eNDbzXDy0jfJixXKBPD7jBZekgFxBxjMRqQeUxwq/gs=',\n",
              "            }\n",
              "        };\n",
              "        var trkjs = document.createElement('img');\n",
              "        trkjs.setAttribute('src', '/cdn-cgi/images/trace/jsch/js/transparent.gif?ray=7c70faf24c79e1a9');\n",
              "        trkjs.setAttribute('alt', '');\n",
              "        trkjs.setAttribute('style', 'display: none');\n",
              "        document.body.appendChild(trkjs);\n",
              "        var cpo = document.createElement('script');\n",
              "        cpo.src = '/cdn-cgi/challenge-platform/h/g/orchestrate/jsch/v1?ray=7c70faf24c79e1a9';\n",
              "        window._cf_chl_opt.cOgUHash = location.hash === '' && location.href.indexOf('#') !== -1 ? '#' : location.hash;\n",
              "        window._cf_chl_opt.cOgUQuery = location.search === '' && location.href.slice(0, location.href.length - window._cf_chl_opt.cOgUHash.length).indexOf('?') !== -1 ? '?' : location.search;\n",
              "        if (window.history && window.history.replaceState) {\n",
              "            var ogU = location.pathname + window._cf_chl_opt.cOgUQuery + window._cf_chl_opt.cOgUHash;\n",
              "            history.replaceState(null, null, \"\\/personal\\/pay\\/cards\\/credit-cards?__cf_chl_rt_tk=_uAnuc9mqNfbgN9z155AI3mzFAHc66Q.khASMqi0DQ8-1684044649-0-gaNycGzNCaU\" + window._cf_chl_opt.cOgUHash);\n",
              "            cpo.onload = function() {\n",
              "                history.replaceState(null, null, ogU);\n",
              "            };\n",
              "        }\n",
              "        document.getElementsByTagName('head')[0].appendChild(cpo);\n",
              "    }());\n",
              "</script>\n",
              "</div>\n",
              "</div>\n",
              "<div id=\"element1\"><div class=\"iw_component\" id=\"c1363845813516\"><div class=\"wrapp\">\n",
              "<div class=\"header\"><a href=\"http://www.hdfcbank.com\"><img alt=\"logo\" src=\"data:image/gif;base64,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\"/></a></div>\n",
              "<div class=\"contain\" style=\"margin-top:100px;\">\n",
              "<h2>The Page is loading</h2>\n",
              "<div class=\"loader\"></div>\n",
              "</div>\n",
              "<div class=\"footer\">© 2015 HDFC Bank Ltd. All rights reserved.</div>\n",
              "</div>\n",
              "</div></div></body></html>>"
            ]
          },
          "metadata": {},
          "execution_count": 5
        }
      ]
    },
    {
      "cell_type": "code",
      "source": [
        "soup.title"
      ],
      "metadata": {
        "colab": {
          "base_uri": "https://localhost:8080/"
        },
        "id": "j6nh2e6QqL4e",
        "outputId": "1b897b43-1033-4101-ca47-e53be436710c"
      },
      "execution_count": 16,
      "outputs": [
        {
          "output_type": "execute_result",
          "data": {
            "text/plain": [
              "<title>Page loading</title>"
            ]
          },
          "metadata": {},
          "execution_count": 16
        }
      ]
    },
    {
      "cell_type": "code",
      "source": [
        "# Find all the credit card products on the page\n",
        "card_list = soup.find_all('div', {'class': 'product-wrapper'})\n",
        "cards = []"
      ],
      "metadata": {
        "id": "aVtX3vP9Wdvx"
      },
      "execution_count": 12,
      "outputs": []
    },
    {
      "cell_type": "code",
      "source": [
        "# Loop through each card product and extract the required information\n",
        "for card in card_list:\n",
        "    card_name = card.find('div', {'class': 'product-title'}).text.strip()\n",
        "    card_fee = card.find('div', {'class': 'product-subtitle'}).text.strip()\n",
        "    reward_points = card.find('span', {'class': 'reward-details'}).text.strip()\n",
        "    lounge_access = card.find('span', {'class': 'lounge-details'}).text.strip()\n",
        "    milestone_benefit = card.find('span', {'class': 'milestone-details'}).text.strip()\n",
        "    card_fee_reversal = card.find('span', {'class': 'fee-waiver-details'}).text.strip()\n",
        "    cards.append([card_name, card_fee, reward_points, lounge_access, milestone_benefit, card_fee_reversal])"
      ],
      "metadata": {
        "id": "tACIAp2e4X2i"
      },
      "execution_count": 13,
      "outputs": []
    },
    {
      "cell_type": "code",
      "source": [
        "df = pd.DataFrame(cards, columns=['Card Name', 'Card fee', 'Reward points/percentage per 100 spent', 'Lounge access', 'Milestone benefit', 'Card fee reversal condition if any'])"
      ],
      "metadata": {
        "id": "V1vvJlNntbph"
      },
      "execution_count": 14,
      "outputs": []
    },
    {
      "cell_type": "code",
      "source": [
        "df.to_csv('hdfc_credit_cards.csv', index=False)"
      ],
      "metadata": {
        "id": "4QqXOAGitJbN"
      },
      "execution_count": 15,
      "outputs": []
    },
    {
      "cell_type": "code",
      "source": [],
      "metadata": {
        "id": "efES7DuwtRYS"
      },
      "execution_count": null,
      "outputs": []
    }
  ]
}