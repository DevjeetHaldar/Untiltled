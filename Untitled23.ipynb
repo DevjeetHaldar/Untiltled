{
  "nbformat": 4,
  "nbformat_minor": 0,
  "metadata": {
    "colab": {
      "provenance": []
    },
    "kernelspec": {
      "name": "python3",
      "display_name": "Python 3"
    },
    "language_info": {
      "name": "python"
    }
  },
  "cells": [
    {
      "cell_type": "code",
      "source": [
        "import requests\n",
        "from bs4 import BeautifulSoup\n",
        "import csv"
      ],
      "metadata": {
        "id": "lfaq_P0eA56h"
      },
      "execution_count": null,
      "outputs": []
    },
    {
      "cell_type": "code",
      "source": [
        "url = \"https://www.hdfcbank.com/personal/pay/cards/credit-cards\""
      ],
      "metadata": {
        "id": "M_Xl6hA_BVO8"
      },
      "execution_count": null,
      "outputs": []
    },
    {
      "cell_type": "code",
      "source": [
        "response = requests.get(url)\n",
        "soup = BeautifulSoup(response.content, \"html.parser\")"
      ],
      "metadata": {
        "id": "XboDGMpnBZ-r"
      },
      "execution_count": null,
      "outputs": []
    },
    {
      "cell_type": "code",
      "source": [
        "# find all the credit card products\n",
        "credit_cards = soup.find_all(\"div\", {\"class\": \"credit-card-wrapper\"})"
      ],
      "metadata": {
        "id": "ZuRQIHNGBdHG"
      },
      "execution_count": null,
      "outputs": []
    },
    {
      "cell_type": "code",
      "source": [
        "# create a list to store the scraped data\n",
        "data = []"
      ],
      "metadata": {
        "id": "qbWlldkEBgf-"
      },
      "execution_count": null,
      "outputs": []
    },
    {
      "cell_type": "code",
      "source": [
        "for card in credit_cards:\n",
        "    name = card.find(\"h2\", {\"class\": \"credit-card-title\"}).text.strip()\n",
        "    fee = card.find(\"span\", {\"class\": \"card-fee\"}).text.strip()\n",
        "    reward_points = card.find(\"span\", {\"class\": \"card-reward\"}).text.strip()\n",
        "    lounge_access = card.find(\"span\", {\"class\": \"card-lounge\"}).text.strip()\n",
        "    milestone_benefit = card.find(\"span\", {\"class\": \"card-milestone\"}).text.strip()\n",
        "    fee_reversal = card.find(\"span\", {\"class\": \"card-fee-reversal\"}).text.strip()"
      ],
      "metadata": {
        "id": "_9jp3JMfBtu0"
      },
      "execution_count": null,
      "outputs": []
    },
    {
      "cell_type": "code",
      "source": [
        "# append the scraped data to the list\n",
        "data.append([name, fee, reward_points, lounge_access, milestone_benefit, fee_reversal])"
      ],
      "metadata": {
        "id": "uc8mrzSTCtZ5"
      },
      "execution_count": null,
      "outputs": []
    }
  ]
}